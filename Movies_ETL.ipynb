{
 "cells": [
  {
   "cell_type": "code",
   "execution_count": null,
   "id": "7c4c1777",
   "metadata": {},
   "outputs": [],
   "source": [
    "import json\n",
    "import pandas as pd\n",
    "import numpy as np"
   ]
  },
  {
   "cell_type": "markdown",
   "id": "9e58d28b",
   "metadata": {},
   "source": [
    "# Extract"
   ]
  },
  {
   "cell_type": "markdown",
   "id": "75c2b92c",
   "metadata": {},
   "source": [
    "#### Load in the wikipedia JSON"
   ]
  },
  {
   "cell_type": "code",
   "execution_count": null,
   "id": "642609bc",
   "metadata": {},
   "outputs": [],
   "source": [
    "#file_dir = 'C://Users/Username/DataBootcamp/'\n",
    "file_dir = 'C://Users/Nat/DataAnalyticsBootcamp/Module_8/Movies_ETL/Resources/'"
   ]
  },
  {
   "cell_type": "code",
   "execution_count": null,
   "id": "3998d887",
   "metadata": {},
   "outputs": [],
   "source": [
    "with open(f'{file_dir}wikipedia-movies.json', mode='r') as file:\n",
    "    wiki_movies_raw = json.load(file)\n",
    "    \n",
    "wiki_movies_raw"
   ]
  },
  {
   "cell_type": "code",
   "execution_count": null,
   "id": "d7a0b684",
   "metadata": {},
   "outputs": [],
   "source": [
    "len(wiki_movies_raw)"
   ]
  },
  {
   "cell_type": "markdown",
   "id": "31742297",
   "metadata": {},
   "source": [
    "##### Inspect the data"
   ]
  },
  {
   "cell_type": "code",
   "execution_count": null,
   "id": "92772421",
   "metadata": {},
   "outputs": [],
   "source": [
    "# First 5 records\n",
    "wiki_movies_raw[:5]\n",
    "\n",
    "# Last 5 records\n",
    "wiki_movies_raw[-5:]\n",
    "\n",
    "# Some records in the middle\n",
    "wiki_movies_raw[3600:3605]"
   ]
  },
  {
   "cell_type": "code",
   "execution_count": null,
   "id": "7944facf",
   "metadata": {},
   "outputs": [],
   "source": [
    "wiki_movies_df = pd.DataFrame(wiki_movies_raw)"
   ]
  },
  {
   "cell_type": "markdown",
   "id": "e5cef8d9",
   "metadata": {},
   "source": [
    "#### Load in Kaggle Data from MovieLens"
   ]
  },
  {
   "cell_type": "code",
   "execution_count": null,
   "id": "8826caa6",
   "metadata": {},
   "outputs": [],
   "source": [
    "kaggle_metadata = pd.read_csv(f'{file_dir}movies_metadata.csv', low_memory=False)\n",
    "ratings = pd.read_csv(f'{file_dir}ratings.csv')"
   ]
  },
  {
   "cell_type": "markdown",
   "id": "856df9fc",
   "metadata": {},
   "source": [
    "##### Inspect the data"
   ]
  },
  {
   "cell_type": "code",
   "execution_count": null,
   "id": "08320044",
   "metadata": {},
   "outputs": [],
   "source": [
    "kaggle_metadata.sample(10)\n",
    "ratings.sample(10)"
   ]
  },
  {
   "cell_type": "markdown",
   "id": "5bf29ac6",
   "metadata": {},
   "source": [
    "# Transform"
   ]
  },
  {
   "cell_type": "markdown",
   "id": "524b1d03",
   "metadata": {},
   "source": [
    "### Filtering Bad Data (ie tv show data )"
   ]
  },
  {
   "cell_type": "code",
   "execution_count": null,
   "id": "6cb1880b",
   "metadata": {},
   "outputs": [],
   "source": [
    "wiki_movies_df.sample(20)"
   ]
  },
  {
   "cell_type": "code",
   "execution_count": null,
   "id": "aee22d54",
   "metadata": {},
   "outputs": [],
   "source": [
    "# See the column names of all 193 columns\n",
    "wiki_movies_df.columns.tolist()"
   ]
  },
  {
   "cell_type": "code",
   "execution_count": null,
   "id": "ca7ced9b",
   "metadata": {},
   "outputs": [],
   "source": [
    "# Let's modify our JSON data by restricting it to only those entries that have a director and an IMDb link\n",
    "wiki_movies = [movie for movie in wiki_movies_raw\n",
    "               if ('Director' in movie or 'Directed by' in movie)\n",
    "                   and 'imdb_link' in movie]\n",
    "len(wiki_movies)"
   ]
  },
  {
   "cell_type": "code",
   "execution_count": null,
   "id": "e1f879f5",
   "metadata": {},
   "outputs": [],
   "source": [
    "wiki_movies_df = pd.DataFrame(wiki_movies)\n",
    "wiki_movies_df.sample(10)\n",
    "# now there is only 78 columns of data"
   ]
  },
  {
   "cell_type": "code",
   "execution_count": null,
   "id": "773f3f62",
   "metadata": {},
   "outputs": [],
   "source": [
    "# See the column names of all 78 columns\n",
    "wiki_movies_df.columns.tolist()"
   ]
  },
  {
   "cell_type": "code",
   "execution_count": null,
   "id": "9db744b7",
   "metadata": {},
   "outputs": [],
   "source": [
    "# It looks like we've got some TV shows in our data instead of movies.\n",
    "# Delete rows with 'No. of episodes' data\n",
    "wiki_movies = [movie for movie in wiki_movies_raw\n",
    "               if ('Director' in movie or 'Directed by' in movie)\n",
    "                   and 'imdb_link' in movie\n",
    "                   and 'No. of episodes' not in movie]"
   ]
  },
  {
   "cell_type": "code",
   "execution_count": null,
   "id": "83dc3993",
   "metadata": {},
   "outputs": [],
   "source": [
    "wiki_movies_df = pd.DataFrame(wiki_movies)\n",
    "wiki_movies_df.sample(10)\n",
    "# now there is only 75 columns of data"
   ]
  },
  {
   "cell_type": "markdown",
   "id": "ac88f8ad",
   "metadata": {},
   "source": [
    "### Handle the alternative titles (ie titles in other language columns)"
   ]
  },
  {
   "cell_type": "markdown",
   "id": "ef1b3d19",
   "metadata": {},
   "source": [
    "#### Make a function called clean_movie to clean up each movie entry"
   ]
  },
  {
   "cell_type": "code",
   "execution_count": null,
   "id": "fbd05cd4",
   "metadata": {},
   "outputs": [],
   "source": [
    "# The different language columns are for alternate titles of the movie. \n",
    "# Let's combine all of them into one dictionary that has all the alternate titles.\n",
    "\n",
    "# Step 1 Make an Empty dictionary to hold all alternative titles\n",
    "def clean_movie(movie):\n",
    "    movie = dict(movie) #create a non-destructive copy\n",
    "    alt_titles = {}\n",
    "    return movie"
   ]
  },
  {
   "cell_type": "code",
   "execution_count": 35,
   "id": "6cd6080a",
   "metadata": {},
   "outputs": [],
   "source": [
    "# Step 2a: Loop through a list of all alternative title keys.\n",
    "#          Check if the current key exists in the movie object.\n",
    "# Step 2b: If so, remove the key-value pair and add to the alternative titles dictionary.\n",
    "def clean_movie(movie):\n",
    "    movie = dict(movie) #create a non-destructive copy\n",
    "    alt_titles = {}\n",
    "    for key in ['Also known as','Arabic','Cantonese','Chinese','French',\n",
    "                'Hangul','Hebrew','Hepburn','Japanese','Literally',\n",
    "                'Mandarin','McCune–Reischauer','Original title','Polish',\n",
    "                'Revised Romanization','Romanized','Russian',\n",
    "                'Simplified','Traditional','Yiddish']:\n",
    "        if key in movie:\n",
    "            alt_titles[key] = movie[key]\n",
    "            movie.pop(key)\n",
    "            \n",
    "    return movie"
   ]
  },
  {
   "cell_type": "code",
   "execution_count": 36,
   "id": "90ccb123",
   "metadata": {},
   "outputs": [],
   "source": [
    "# Step 3: After looping through every key, add the alternative titles dict to the movie object.\n",
    "def clean_movie(movie):\n",
    "    \n",
    "    movie = dict(movie) #create a non-destructive copy\n",
    "    \n",
    "    alt_titles = {}\n",
    "    \n",
    "    for key in ['Also known as','Arabic','Cantonese','Chinese','French',\n",
    "                'Hangul','Hebrew','Hepburn','Japanese','Literally',\n",
    "                'Mandarin','McCune–Reischauer','Original title','Polish',\n",
    "                'Revised Romanization','Romanized','Russian',\n",
    "                'Simplified','Traditional','Yiddish']:\n",
    "        if key in movie:\n",
    "            alt_titles[key] = movie[key]\n",
    "            movie.pop(key)\n",
    "            \n",
    "    if len(alt_titles) > 0:\n",
    "        movie['alt_titles'] = alt_titles\n",
    "\n",
    "    return movie"
   ]
  },
  {
   "cell_type": "markdown",
   "id": "3baccb20",
   "metadata": {},
   "source": [
    "#### Use the function you created to make a list of cleaned movies"
   ]
  },
  {
   "cell_type": "code",
   "execution_count": null,
   "id": "0dd6e34e",
   "metadata": {},
   "outputs": [],
   "source": [
    "# make a list of cleaned movies\n",
    "clean_movies = [clean_movie(movie) for movie in wiki_movies]"
   ]
  },
  {
   "cell_type": "markdown",
   "id": "2039bf7d",
   "metadata": {},
   "source": [
    "#### Update the dataframe with clean data"
   ]
  },
  {
   "cell_type": "code",
   "execution_count": 37,
   "id": "6d419792",
   "metadata": {},
   "outputs": [
    {
     "data": {
      "text/html": [
       "<div>\n",
       "<style scoped>\n",
       "    .dataframe tbody tr th:only-of-type {\n",
       "        vertical-align: middle;\n",
       "    }\n",
       "\n",
       "    .dataframe tbody tr th {\n",
       "        vertical-align: top;\n",
       "    }\n",
       "\n",
       "    .dataframe thead th {\n",
       "        text-align: right;\n",
       "    }\n",
       "</style>\n",
       "<table border=\"1\" class=\"dataframe\">\n",
       "  <thead>\n",
       "    <tr style=\"text-align: right;\">\n",
       "      <th></th>\n",
       "      <th>url</th>\n",
       "      <th>year</th>\n",
       "      <th>imdb_link</th>\n",
       "      <th>title</th>\n",
       "      <th>Directed by</th>\n",
       "      <th>Produced by</th>\n",
       "      <th>Screenplay by</th>\n",
       "      <th>Story by</th>\n",
       "      <th>Based on</th>\n",
       "      <th>Starring</th>\n",
       "      <th>...</th>\n",
       "      <th>Released</th>\n",
       "      <th>Recorded</th>\n",
       "      <th>Venue</th>\n",
       "      <th>Length</th>\n",
       "      <th>Label</th>\n",
       "      <th>Director</th>\n",
       "      <th>Producer</th>\n",
       "      <th>Animation by</th>\n",
       "      <th>Color process</th>\n",
       "      <th>Screen story by</th>\n",
       "    </tr>\n",
       "  </thead>\n",
       "  <tbody>\n",
       "    <tr>\n",
       "      <th>664</th>\n",
       "      <td>https://en.wikipedia.org/wiki/Where_the_Day_Ta...</td>\n",
       "      <td>1992</td>\n",
       "      <td>https://www.imdb.com/title/tt0105810/</td>\n",
       "      <td>Where the Day Takes You</td>\n",
       "      <td>Marc Rocco</td>\n",
       "      <td>[Paul Hertzberg, Philip McKeon]</td>\n",
       "      <td>NaN</td>\n",
       "      <td>NaN</td>\n",
       "      <td>NaN</td>\n",
       "      <td>[Sean Astin, Lara Flynn Boyle, Peter Dobson, B...</td>\n",
       "      <td>...</td>\n",
       "      <td>NaN</td>\n",
       "      <td>NaN</td>\n",
       "      <td>NaN</td>\n",
       "      <td>NaN</td>\n",
       "      <td>NaN</td>\n",
       "      <td>NaN</td>\n",
       "      <td>NaN</td>\n",
       "      <td>NaN</td>\n",
       "      <td>NaN</td>\n",
       "      <td>NaN</td>\n",
       "    </tr>\n",
       "    <tr>\n",
       "      <th>3336</th>\n",
       "      <td>https://en.wikipedia.org/wiki/It_Runs_in_the_F...</td>\n",
       "      <td>2003</td>\n",
       "      <td>https://www.imdb.com/title/tt0311110/</td>\n",
       "      <td>It Runs in the Family</td>\n",
       "      <td>Fred Schepisi</td>\n",
       "      <td>[Michael Douglas, Marcy Drogin, Jesse Wigutow]</td>\n",
       "      <td>NaN</td>\n",
       "      <td>NaN</td>\n",
       "      <td>NaN</td>\n",
       "      <td>[Michael Douglas, Kirk Douglas, Cameron Dougla...</td>\n",
       "      <td>...</td>\n",
       "      <td>NaN</td>\n",
       "      <td>NaN</td>\n",
       "      <td>NaN</td>\n",
       "      <td>NaN</td>\n",
       "      <td>NaN</td>\n",
       "      <td>NaN</td>\n",
       "      <td>NaN</td>\n",
       "      <td>NaN</td>\n",
       "      <td>NaN</td>\n",
       "      <td>NaN</td>\n",
       "    </tr>\n",
       "    <tr>\n",
       "      <th>262</th>\n",
       "      <td>https://en.wikipedia.org/wiki/Across_the_Tracks</td>\n",
       "      <td>1991</td>\n",
       "      <td>https://www.imdb.com/title/tt0101268/</td>\n",
       "      <td>Across the Tracks</td>\n",
       "      <td>Sandy Tung</td>\n",
       "      <td>[Francesca Bill, Nancy Paloian, Dale Rosenbloo...</td>\n",
       "      <td>NaN</td>\n",
       "      <td>NaN</td>\n",
       "      <td>NaN</td>\n",
       "      <td>[Rick Schroder, Brad Pitt, Carrie Snodgress, D...</td>\n",
       "      <td>...</td>\n",
       "      <td>NaN</td>\n",
       "      <td>NaN</td>\n",
       "      <td>NaN</td>\n",
       "      <td>NaN</td>\n",
       "      <td>NaN</td>\n",
       "      <td>NaN</td>\n",
       "      <td>NaN</td>\n",
       "      <td>NaN</td>\n",
       "      <td>NaN</td>\n",
       "      <td>NaN</td>\n",
       "    </tr>\n",
       "    <tr>\n",
       "      <th>4043</th>\n",
       "      <td>https://en.wikipedia.org/wiki/Fay_Grim</td>\n",
       "      <td>2006</td>\n",
       "      <td>https://www.imdb.com/title/tt0444628/</td>\n",
       "      <td>Fay Grim</td>\n",
       "      <td>Hal Hartley</td>\n",
       "      <td>[Hal Hartley, Jason Kilot, Joana Vicente]</td>\n",
       "      <td>NaN</td>\n",
       "      <td>NaN</td>\n",
       "      <td>NaN</td>\n",
       "      <td>[Parker Posey, James Urbaniak, Liam Aiken, Jef...</td>\n",
       "      <td>...</td>\n",
       "      <td>NaN</td>\n",
       "      <td>NaN</td>\n",
       "      <td>NaN</td>\n",
       "      <td>NaN</td>\n",
       "      <td>NaN</td>\n",
       "      <td>NaN</td>\n",
       "      <td>NaN</td>\n",
       "      <td>NaN</td>\n",
       "      <td>NaN</td>\n",
       "      <td>NaN</td>\n",
       "    </tr>\n",
       "    <tr>\n",
       "      <th>3898</th>\n",
       "      <td>https://en.wikipedia.org/wiki/White_Noise_(film)</td>\n",
       "      <td>2005</td>\n",
       "      <td>https://www.imdb.com/title/tt0375210/</td>\n",
       "      <td>White Noise</td>\n",
       "      <td>Geoffrey Sax</td>\n",
       "      <td>Paul Brooks</td>\n",
       "      <td>NaN</td>\n",
       "      <td>NaN</td>\n",
       "      <td>NaN</td>\n",
       "      <td>[Michael Keaton, Deborah Kara Unger, Mike Dopu...</td>\n",
       "      <td>...</td>\n",
       "      <td>NaN</td>\n",
       "      <td>NaN</td>\n",
       "      <td>NaN</td>\n",
       "      <td>NaN</td>\n",
       "      <td>NaN</td>\n",
       "      <td>NaN</td>\n",
       "      <td>NaN</td>\n",
       "      <td>NaN</td>\n",
       "      <td>NaN</td>\n",
       "      <td>NaN</td>\n",
       "    </tr>\n",
       "  </tbody>\n",
       "</table>\n",
       "<p>5 rows × 56 columns</p>\n",
       "</div>"
      ],
      "text/plain": [
       "                                                    url  year  \\\n",
       "664   https://en.wikipedia.org/wiki/Where_the_Day_Ta...  1992   \n",
       "3336  https://en.wikipedia.org/wiki/It_Runs_in_the_F...  2003   \n",
       "262     https://en.wikipedia.org/wiki/Across_the_Tracks  1991   \n",
       "4043             https://en.wikipedia.org/wiki/Fay_Grim  2006   \n",
       "3898   https://en.wikipedia.org/wiki/White_Noise_(film)  2005   \n",
       "\n",
       "                                  imdb_link                    title  \\\n",
       "664   https://www.imdb.com/title/tt0105810/  Where the Day Takes You   \n",
       "3336  https://www.imdb.com/title/tt0311110/    It Runs in the Family   \n",
       "262   https://www.imdb.com/title/tt0101268/        Across the Tracks   \n",
       "4043  https://www.imdb.com/title/tt0444628/                 Fay Grim   \n",
       "3898  https://www.imdb.com/title/tt0375210/              White Noise   \n",
       "\n",
       "        Directed by                                        Produced by  \\\n",
       "664      Marc Rocco                    [Paul Hertzberg, Philip McKeon]   \n",
       "3336  Fred Schepisi     [Michael Douglas, Marcy Drogin, Jesse Wigutow]   \n",
       "262      Sandy Tung  [Francesca Bill, Nancy Paloian, Dale Rosenbloo...   \n",
       "4043    Hal Hartley          [Hal Hartley, Jason Kilot, Joana Vicente]   \n",
       "3898   Geoffrey Sax                                        Paul Brooks   \n",
       "\n",
       "     Screenplay by Story by Based on  \\\n",
       "664            NaN      NaN      NaN   \n",
       "3336           NaN      NaN      NaN   \n",
       "262            NaN      NaN      NaN   \n",
       "4043           NaN      NaN      NaN   \n",
       "3898           NaN      NaN      NaN   \n",
       "\n",
       "                                               Starring  ... Released  \\\n",
       "664   [Sean Astin, Lara Flynn Boyle, Peter Dobson, B...  ...      NaN   \n",
       "3336  [Michael Douglas, Kirk Douglas, Cameron Dougla...  ...      NaN   \n",
       "262   [Rick Schroder, Brad Pitt, Carrie Snodgress, D...  ...      NaN   \n",
       "4043  [Parker Posey, James Urbaniak, Liam Aiken, Jef...  ...      NaN   \n",
       "3898  [Michael Keaton, Deborah Kara Unger, Mike Dopu...  ...      NaN   \n",
       "\n",
       "     Recorded Venue Length Label Director Producer Animation by Color process  \\\n",
       "664       NaN   NaN    NaN   NaN      NaN      NaN          NaN           NaN   \n",
       "3336      NaN   NaN    NaN   NaN      NaN      NaN          NaN           NaN   \n",
       "262       NaN   NaN    NaN   NaN      NaN      NaN          NaN           NaN   \n",
       "4043      NaN   NaN    NaN   NaN      NaN      NaN          NaN           NaN   \n",
       "3898      NaN   NaN    NaN   NaN      NaN      NaN          NaN           NaN   \n",
       "\n",
       "     Screen story by  \n",
       "664              NaN  \n",
       "3336             NaN  \n",
       "262              NaN  \n",
       "4043             NaN  \n",
       "3898             NaN  \n",
       "\n",
       "[5 rows x 56 columns]"
      ]
     },
     "execution_count": 37,
     "metadata": {},
     "output_type": "execute_result"
    }
   ],
   "source": [
    "# Make a new wiki_movies_df based on data in clean movies \n",
    "wiki_movies_df = pd.DataFrame(clean_movies)\n",
    "wiki_movies_df.sample(5)"
   ]
  },
  {
   "cell_type": "code",
   "execution_count": 38,
   "id": "9afa66a9",
   "metadata": {},
   "outputs": [
    {
     "data": {
      "text/plain": [
       "['Adaptation by',\n",
       " 'Animation by',\n",
       " 'Audio format',\n",
       " 'Based on',\n",
       " 'Box office',\n",
       " 'Budget',\n",
       " 'Cinematography',\n",
       " 'Color process',\n",
       " 'Composer(s)',\n",
       " 'Country',\n",
       " 'Country of origin',\n",
       " 'Created by',\n",
       " 'Directed by',\n",
       " 'Director',\n",
       " 'Distributed by',\n",
       " 'Distributor',\n",
       " 'Edited by',\n",
       " 'Editor(s)',\n",
       " 'Executive producer(s)',\n",
       " 'Followed by',\n",
       " 'Genre',\n",
       " 'Label',\n",
       " 'Language',\n",
       " 'Length',\n",
       " 'Music by',\n",
       " 'Narrated by',\n",
       " 'Original language(s)',\n",
       " 'Original network',\n",
       " 'Original release',\n",
       " 'Picture format',\n",
       " 'Preceded by',\n",
       " 'Produced by',\n",
       " 'Producer',\n",
       " 'Producer(s)',\n",
       " 'Production company(s)',\n",
       " 'Production location(s)',\n",
       " 'Productioncompanies ',\n",
       " 'Productioncompany ',\n",
       " 'Recorded',\n",
       " 'Release date',\n",
       " 'Released',\n",
       " 'Running time',\n",
       " 'Screen story by',\n",
       " 'Screenplay by',\n",
       " 'Starring',\n",
       " 'Story by',\n",
       " 'Suggested by',\n",
       " 'Theme music composer',\n",
       " 'Venue',\n",
       " 'Voices of',\n",
       " 'Written by',\n",
       " 'alt_titles',\n",
       " 'imdb_link',\n",
       " 'title',\n",
       " 'url',\n",
       " 'year']"
      ]
     },
     "execution_count": 38,
     "metadata": {},
     "output_type": "execute_result"
    }
   ],
   "source": [
    "# display the list of all 56 columns\n",
    "sorted(wiki_movies_df.columns.tolist())"
   ]
  },
  {
   "cell_type": "code",
   "execution_count": null,
   "id": "3146809c",
   "metadata": {},
   "outputs": [],
   "source": []
  }
 ],
 "metadata": {
  "kernelspec": {
   "display_name": "Python 3 (ipykernel)",
   "language": "python",
   "name": "python3"
  },
  "language_info": {
   "codemirror_mode": {
    "name": "ipython",
    "version": 3
   },
   "file_extension": ".py",
   "mimetype": "text/x-python",
   "name": "python",
   "nbconvert_exporter": "python",
   "pygments_lexer": "ipython3",
   "version": "3.9.7"
  }
 },
 "nbformat": 4,
 "nbformat_minor": 5
}
